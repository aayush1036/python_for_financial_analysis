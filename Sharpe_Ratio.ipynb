{
  "nbformat": 4,
  "nbformat_minor": 0,
  "metadata": {
    "colab": {
      "name": "Untitled13.ipynb",
      "provenance": [],
      "authorship_tag": "ABX9TyNP0GJ3a2Z4TknITgKSmI9b",
      "include_colab_link": true
    },
    "kernelspec": {
      "name": "python3",
      "display_name": "Python 3"
    }
  },
  "cells": [
    {
      "cell_type": "markdown",
      "metadata": {
        "id": "view-in-github",
        "colab_type": "text"
      },
      "source": [
        "<a href=\"https://colab.research.google.com/github/aayush1036/python_for_financial_analysis/blob/main/Sharpe_Ratio.ipynb\" target=\"_parent\"><img src=\"https://colab.research.google.com/assets/colab-badge.svg\" alt=\"Open In Colab\"/></a>"
      ]
    },
    {
      "cell_type": "code",
      "metadata": {
        "colab": {
          "base_uri": "https://localhost:8080/"
        },
        "id": "YMBQzipl2yMr",
        "outputId": "cc1acf7c-7953-4163-ab16-74efd71fed3f"
      },
      "source": [
        "!pip install quandl\r\n",
        "import pandas as pd\r\n",
        "import quandl "
      ],
      "execution_count": 2,
      "outputs": [
        {
          "output_type": "stream",
          "text": [
            "Collecting quandl\n",
            "  Downloading https://files.pythonhosted.org/packages/1f/37/2d908ea6de71a46f4bb2faf5ff0032cefe56117b715c7f22d1d0d2e7527d/Quandl-3.5.3-py2.py3-none-any.whl\n",
            "Collecting inflection>=0.3.1\n",
            "  Downloading https://files.pythonhosted.org/packages/59/91/aa6bde563e0085a02a435aa99b49ef75b0a4b062635e606dab23ce18d720/inflection-0.5.1-py2.py3-none-any.whl\n",
            "Requirement already satisfied: numpy>=1.8 in /usr/local/lib/python3.6/dist-packages (from quandl) (1.18.5)\n",
            "Requirement already satisfied: more-itertools in /usr/local/lib/python3.6/dist-packages (from quandl) (8.6.0)\n",
            "Requirement already satisfied: pandas>=0.14 in /usr/local/lib/python3.6/dist-packages (from quandl) (1.1.5)\n",
            "Requirement already satisfied: six in /usr/local/lib/python3.6/dist-packages (from quandl) (1.15.0)\n",
            "Requirement already satisfied: requests>=2.7.0 in /usr/local/lib/python3.6/dist-packages (from quandl) (2.23.0)\n",
            "Requirement already satisfied: python-dateutil in /usr/local/lib/python3.6/dist-packages (from quandl) (2.8.1)\n",
            "Requirement already satisfied: pytz>=2017.2 in /usr/local/lib/python3.6/dist-packages (from pandas>=0.14->quandl) (2018.9)\n",
            "Requirement already satisfied: chardet<4,>=3.0.2 in /usr/local/lib/python3.6/dist-packages (from requests>=2.7.0->quandl) (3.0.4)\n",
            "Requirement already satisfied: certifi>=2017.4.17 in /usr/local/lib/python3.6/dist-packages (from requests>=2.7.0->quandl) (2020.12.5)\n",
            "Requirement already satisfied: idna<3,>=2.5 in /usr/local/lib/python3.6/dist-packages (from requests>=2.7.0->quandl) (2.10)\n",
            "Requirement already satisfied: urllib3!=1.25.0,!=1.25.1,<1.26,>=1.21.1 in /usr/local/lib/python3.6/dist-packages (from requests>=2.7.0->quandl) (1.24.3)\n",
            "Installing collected packages: inflection, quandl\n",
            "Successfully installed inflection-0.5.1 quandl-3.5.3\n"
          ],
          "name": "stdout"
        }
      ]
    },
    {
      "cell_type": "code",
      "metadata": {
        "id": "2RtsQZdM24O_"
      },
      "source": [
        "start = pd.to_datetime('2012-01-01')\r\n",
        "end = pd.to_datetime('2017-01-01')"
      ],
      "execution_count": 3,
      "outputs": []
    },
    {
      "cell_type": "code",
      "metadata": {
        "id": "SEMnBVHf3IIE"
      },
      "source": [
        "aapl = quandl.get('WIKI/AAPL.11',start_date = start, end_date = end)"
      ],
      "execution_count": 4,
      "outputs": []
    },
    {
      "cell_type": "code",
      "metadata": {
        "id": "tmOkzs_G3YIm"
      },
      "source": [
        "cisco = quandl.get('WIKI/CSCO.11',start_date = start, end_date = end)\r\n",
        "ibm = quandl.get('WIKI/IBM.11',start_date = start, end_date = end)\r\n",
        "amzn = quandl.get('WIKI/AMZN.11',start_date = start, end_date = end)"
      ],
      "execution_count": 5,
      "outputs": []
    },
    {
      "cell_type": "code",
      "metadata": {
        "colab": {
          "base_uri": "https://localhost:8080/"
        },
        "id": "VOJjK_0_3qpT",
        "outputId": "777943dd-a5e5-43c6-c059-7b3cc03f7d74"
      },
      "source": [
        "aapl.iloc[0]['Adj. Close']"
      ],
      "execution_count": 8,
      "outputs": [
        {
          "output_type": "execute_result",
          "data": {
            "text/plain": [
              "52.848786580038"
            ]
          },
          "metadata": {
            "tags": []
          },
          "execution_count": 8
        }
      ]
    },
    {
      "cell_type": "code",
      "metadata": {
        "id": "SjY3_lCR3sxH"
      },
      "source": [
        "for stock_df in (aapl,cisco,ibm,amzn):\r\n",
        "    stock_df['Normed Return'] = stock_df['Adj. Close']/stock_df.iloc[0]['Adj. Close']"
      ],
      "execution_count": 9,
      "outputs": []
    },
    {
      "cell_type": "code",
      "metadata": {
        "colab": {
          "base_uri": "https://localhost:8080/",
          "height": 235
        },
        "id": "NPP_YWZ_4Wvi",
        "outputId": "20687d6c-0cb2-46a9-a68d-6e573f62d677"
      },
      "source": [
        "aapl.head()"
      ],
      "execution_count": 10,
      "outputs": [
        {
          "output_type": "execute_result",
          "data": {
            "text/html": [
              "<div>\n",
              "<style scoped>\n",
              "    .dataframe tbody tr th:only-of-type {\n",
              "        vertical-align: middle;\n",
              "    }\n",
              "\n",
              "    .dataframe tbody tr th {\n",
              "        vertical-align: top;\n",
              "    }\n",
              "\n",
              "    .dataframe thead th {\n",
              "        text-align: right;\n",
              "    }\n",
              "</style>\n",
              "<table border=\"1\" class=\"dataframe\">\n",
              "  <thead>\n",
              "    <tr style=\"text-align: right;\">\n",
              "      <th></th>\n",
              "      <th>Adj. Close</th>\n",
              "      <th>Normed Return</th>\n",
              "    </tr>\n",
              "    <tr>\n",
              "      <th>Date</th>\n",
              "      <th></th>\n",
              "      <th></th>\n",
              "    </tr>\n",
              "  </thead>\n",
              "  <tbody>\n",
              "    <tr>\n",
              "      <th>2012-01-03</th>\n",
              "      <td>52.848787</td>\n",
              "      <td>1.000000</td>\n",
              "    </tr>\n",
              "    <tr>\n",
              "      <th>2012-01-04</th>\n",
              "      <td>53.132802</td>\n",
              "      <td>1.005374</td>\n",
              "    </tr>\n",
              "    <tr>\n",
              "      <th>2012-01-05</th>\n",
              "      <td>53.722681</td>\n",
              "      <td>1.016536</td>\n",
              "    </tr>\n",
              "    <tr>\n",
              "      <th>2012-01-06</th>\n",
              "      <td>54.284287</td>\n",
              "      <td>1.027162</td>\n",
              "    </tr>\n",
              "    <tr>\n",
              "      <th>2012-01-09</th>\n",
              "      <td>54.198183</td>\n",
              "      <td>1.025533</td>\n",
              "    </tr>\n",
              "  </tbody>\n",
              "</table>\n",
              "</div>"
            ],
            "text/plain": [
              "            Adj. Close  Normed Return\n",
              "Date                                 \n",
              "2012-01-03   52.848787       1.000000\n",
              "2012-01-04   53.132802       1.005374\n",
              "2012-01-05   53.722681       1.016536\n",
              "2012-01-06   54.284287       1.027162\n",
              "2012-01-09   54.198183       1.025533"
            ]
          },
          "metadata": {
            "tags": []
          },
          "execution_count": 10
        }
      ]
    },
    {
      "cell_type": "code",
      "metadata": {
        "colab": {
          "base_uri": "https://localhost:8080/",
          "height": 235
        },
        "id": "54WLw9sI4X_i",
        "outputId": "e9e0c339-1995-4756-d0cd-596bdd05675c"
      },
      "source": [
        "aapl.tail()"
      ],
      "execution_count": 11,
      "outputs": [
        {
          "output_type": "execute_result",
          "data": {
            "text/html": [
              "<div>\n",
              "<style scoped>\n",
              "    .dataframe tbody tr th:only-of-type {\n",
              "        vertical-align: middle;\n",
              "    }\n",
              "\n",
              "    .dataframe tbody tr th {\n",
              "        vertical-align: top;\n",
              "    }\n",
              "\n",
              "    .dataframe thead th {\n",
              "        text-align: right;\n",
              "    }\n",
              "</style>\n",
              "<table border=\"1\" class=\"dataframe\">\n",
              "  <thead>\n",
              "    <tr style=\"text-align: right;\">\n",
              "      <th></th>\n",
              "      <th>Adj. Close</th>\n",
              "      <th>Normed Return</th>\n",
              "    </tr>\n",
              "    <tr>\n",
              "      <th>Date</th>\n",
              "      <th></th>\n",
              "      <th></th>\n",
              "    </tr>\n",
              "  </thead>\n",
              "  <tbody>\n",
              "    <tr>\n",
              "      <th>2016-12-23</th>\n",
              "      <td>115.080808</td>\n",
              "      <td>2.177549</td>\n",
              "    </tr>\n",
              "    <tr>\n",
              "      <th>2016-12-27</th>\n",
              "      <td>115.811668</td>\n",
              "      <td>2.191378</td>\n",
              "    </tr>\n",
              "    <tr>\n",
              "      <th>2016-12-28</th>\n",
              "      <td>115.317843</td>\n",
              "      <td>2.182034</td>\n",
              "    </tr>\n",
              "    <tr>\n",
              "      <th>2016-12-29</th>\n",
              "      <td>115.288214</td>\n",
              "      <td>2.181473</td>\n",
              "    </tr>\n",
              "    <tr>\n",
              "      <th>2016-12-30</th>\n",
              "      <td>114.389454</td>\n",
              "      <td>2.164467</td>\n",
              "    </tr>\n",
              "  </tbody>\n",
              "</table>\n",
              "</div>"
            ],
            "text/plain": [
              "            Adj. Close  Normed Return\n",
              "Date                                 \n",
              "2016-12-23  115.080808       2.177549\n",
              "2016-12-27  115.811668       2.191378\n",
              "2016-12-28  115.317843       2.182034\n",
              "2016-12-29  115.288214       2.181473\n",
              "2016-12-30  114.389454       2.164467"
            ]
          },
          "metadata": {
            "tags": []
          },
          "execution_count": 11
        }
      ]
    },
    {
      "cell_type": "code",
      "metadata": {
        "id": "ozvfkEfD4aTy"
      },
      "source": [
        "# 30% in aaple\r\n",
        "# 20% in cisco\r\n",
        "# 40% in amazon\r\n",
        "# 10% in ibm"
      ],
      "execution_count": 12,
      "outputs": []
    },
    {
      "cell_type": "code",
      "metadata": {
        "id": "qgwhiqVT4oWr"
      },
      "source": [
        "for stock_df, allo in zip((aapl,cisco,ibm,amzn),[0.3,0.2,0.4,0.1]):\r\n",
        "    stock_df['Allocation'] = stock_df['Normed Return']*allo"
      ],
      "execution_count": 13,
      "outputs": []
    },
    {
      "cell_type": "code",
      "metadata": {
        "id": "l0U77cjv4_rk"
      },
      "source": [
        "for stock_df in (aapl,cisco,ibm,amzn):\r\n",
        "    stock_df['Position Values'] = stock_df['Allocation']*1000000"
      ],
      "execution_count": 16,
      "outputs": []
    },
    {
      "cell_type": "code",
      "metadata": {
        "colab": {
          "base_uri": "https://localhost:8080/",
          "height": 235
        },
        "id": "BvzsB76c5Tis",
        "outputId": "c5545cb3-ade9-462e-d740-6eae8c7d344c"
      },
      "source": [
        "aapl.head()"
      ],
      "execution_count": 17,
      "outputs": [
        {
          "output_type": "execute_result",
          "data": {
            "text/html": [
              "<div>\n",
              "<style scoped>\n",
              "    .dataframe tbody tr th:only-of-type {\n",
              "        vertical-align: middle;\n",
              "    }\n",
              "\n",
              "    .dataframe tbody tr th {\n",
              "        vertical-align: top;\n",
              "    }\n",
              "\n",
              "    .dataframe thead th {\n",
              "        text-align: right;\n",
              "    }\n",
              "</style>\n",
              "<table border=\"1\" class=\"dataframe\">\n",
              "  <thead>\n",
              "    <tr style=\"text-align: right;\">\n",
              "      <th></th>\n",
              "      <th>Adj. Close</th>\n",
              "      <th>Normed Return</th>\n",
              "      <th>Allocation</th>\n",
              "      <th>Position Values</th>\n",
              "    </tr>\n",
              "    <tr>\n",
              "      <th>Date</th>\n",
              "      <th></th>\n",
              "      <th></th>\n",
              "      <th></th>\n",
              "      <th></th>\n",
              "    </tr>\n",
              "  </thead>\n",
              "  <tbody>\n",
              "    <tr>\n",
              "      <th>2012-01-03</th>\n",
              "      <td>52.848787</td>\n",
              "      <td>1.000000</td>\n",
              "      <td>0.300000</td>\n",
              "      <td>300000.000000</td>\n",
              "    </tr>\n",
              "    <tr>\n",
              "      <th>2012-01-04</th>\n",
              "      <td>53.132802</td>\n",
              "      <td>1.005374</td>\n",
              "      <td>0.301612</td>\n",
              "      <td>301612.236461</td>\n",
              "    </tr>\n",
              "    <tr>\n",
              "      <th>2012-01-05</th>\n",
              "      <td>53.722681</td>\n",
              "      <td>1.016536</td>\n",
              "      <td>0.304961</td>\n",
              "      <td>304960.727573</td>\n",
              "    </tr>\n",
              "    <tr>\n",
              "      <th>2012-01-06</th>\n",
              "      <td>54.284287</td>\n",
              "      <td>1.027162</td>\n",
              "      <td>0.308149</td>\n",
              "      <td>308148.724558</td>\n",
              "    </tr>\n",
              "    <tr>\n",
              "      <th>2012-01-09</th>\n",
              "      <td>54.198183</td>\n",
              "      <td>1.025533</td>\n",
              "      <td>0.307660</td>\n",
              "      <td>307659.946988</td>\n",
              "    </tr>\n",
              "  </tbody>\n",
              "</table>\n",
              "</div>"
            ],
            "text/plain": [
              "            Adj. Close  Normed Return  Allocation  Position Values\n",
              "Date                                                              \n",
              "2012-01-03   52.848787       1.000000    0.300000    300000.000000\n",
              "2012-01-04   53.132802       1.005374    0.301612    301612.236461\n",
              "2012-01-05   53.722681       1.016536    0.304961    304960.727573\n",
              "2012-01-06   54.284287       1.027162    0.308149    308148.724558\n",
              "2012-01-09   54.198183       1.025533    0.307660    307659.946988"
            ]
          },
          "metadata": {
            "tags": []
          },
          "execution_count": 17
        }
      ]
    },
    {
      "cell_type": "code",
      "metadata": {
        "id": "Ig0qISG75VtR"
      },
      "source": [
        "all_pos_vals = [aapl['Position Values'],cisco['Position Values'],ibm['Position Values'],amzn['Position Values']]\r\n",
        "portfolio_val = pd.concat(all_pos_vals, axis=1)"
      ],
      "execution_count": 18,
      "outputs": []
    },
    {
      "cell_type": "code",
      "metadata": {
        "id": "qC08n0vQ50b4"
      },
      "source": [
        "portfolio_val.columns=['AAPL Pos','CISCO Pos', 'IBM Pos', 'AMZN Pos']"
      ],
      "execution_count": 20,
      "outputs": []
    },
    {
      "cell_type": "code",
      "metadata": {
        "id": "NllMcs6_6EYg"
      },
      "source": [
        "portfolio_val['Total Pos'] = portfolio_val.sum(axis=1)"
      ],
      "execution_count": 22,
      "outputs": []
    },
    {
      "cell_type": "code",
      "metadata": {
        "colab": {
          "base_uri": "https://localhost:8080/",
          "height": 235
        },
        "id": "2Ha_CB9_6Q54",
        "outputId": "8f8fa184-3c74-42e9-c0bd-f1e0150062d5"
      },
      "source": [
        "portfolio_val.head()"
      ],
      "execution_count": 23,
      "outputs": [
        {
          "output_type": "execute_result",
          "data": {
            "text/html": [
              "<div>\n",
              "<style scoped>\n",
              "    .dataframe tbody tr th:only-of-type {\n",
              "        vertical-align: middle;\n",
              "    }\n",
              "\n",
              "    .dataframe tbody tr th {\n",
              "        vertical-align: top;\n",
              "    }\n",
              "\n",
              "    .dataframe thead th {\n",
              "        text-align: right;\n",
              "    }\n",
              "</style>\n",
              "<table border=\"1\" class=\"dataframe\">\n",
              "  <thead>\n",
              "    <tr style=\"text-align: right;\">\n",
              "      <th></th>\n",
              "      <th>AAPL Pos</th>\n",
              "      <th>CISCO Pos</th>\n",
              "      <th>IBM Pos</th>\n",
              "      <th>AMZN Pos</th>\n",
              "      <th>Total Pos</th>\n",
              "    </tr>\n",
              "    <tr>\n",
              "      <th>Date</th>\n",
              "      <th></th>\n",
              "      <th></th>\n",
              "      <th></th>\n",
              "      <th></th>\n",
              "      <th></th>\n",
              "    </tr>\n",
              "  </thead>\n",
              "  <tbody>\n",
              "    <tr>\n",
              "      <th>2012-01-03</th>\n",
              "      <td>300000.000000</td>\n",
              "      <td>200000.000000</td>\n",
              "      <td>400000.000000</td>\n",
              "      <td>100000.000000</td>\n",
              "      <td>1.000000e+06</td>\n",
              "    </tr>\n",
              "    <tr>\n",
              "      <th>2012-01-04</th>\n",
              "      <td>301612.236461</td>\n",
              "      <td>203864.734300</td>\n",
              "      <td>398368.223296</td>\n",
              "      <td>99150.980283</td>\n",
              "      <td>1.002996e+06</td>\n",
              "    </tr>\n",
              "    <tr>\n",
              "      <th>2012-01-05</th>\n",
              "      <td>304960.727573</td>\n",
              "      <td>203113.258186</td>\n",
              "      <td>396478.797638</td>\n",
              "      <td>99206.836843</td>\n",
              "      <td>1.003760e+06</td>\n",
              "    </tr>\n",
              "    <tr>\n",
              "      <th>2012-01-06</th>\n",
              "      <td>308148.724558</td>\n",
              "      <td>202361.782072</td>\n",
              "      <td>391926.999463</td>\n",
              "      <td>101999.664861</td>\n",
              "      <td>1.004437e+06</td>\n",
              "    </tr>\n",
              "    <tr>\n",
              "      <th>2012-01-09</th>\n",
              "      <td>307659.946988</td>\n",
              "      <td>203650.026838</td>\n",
              "      <td>389887.278583</td>\n",
              "      <td>99737.474166</td>\n",
              "      <td>1.000935e+06</td>\n",
              "    </tr>\n",
              "  </tbody>\n",
              "</table>\n",
              "</div>"
            ],
            "text/plain": [
              "                 AAPL Pos      CISCO Pos  ...       AMZN Pos     Total Pos\n",
              "Date                                      ...                             \n",
              "2012-01-03  300000.000000  200000.000000  ...  100000.000000  1.000000e+06\n",
              "2012-01-04  301612.236461  203864.734300  ...   99150.980283  1.002996e+06\n",
              "2012-01-05  304960.727573  203113.258186  ...   99206.836843  1.003760e+06\n",
              "2012-01-06  308148.724558  202361.782072  ...  101999.664861  1.004437e+06\n",
              "2012-01-09  307659.946988  203650.026838  ...   99737.474166  1.000935e+06\n",
              "\n",
              "[5 rows x 5 columns]"
            ]
          },
          "metadata": {
            "tags": []
          },
          "execution_count": 23
        }
      ]
    },
    {
      "cell_type": "code",
      "metadata": {
        "colab": {
          "base_uri": "https://localhost:8080/",
          "height": 498
        },
        "id": "9dT7qM3x6VTp",
        "outputId": "7db74fcd-d1f8-4d08-daf1-67c2594644a5"
      },
      "source": [
        "import matplotlib.pyplot as plt\r\n",
        "portfolio_val['Total Pos'].plot(figsize=(10,8))\r\n",
        "plt.title('Total Portfolio Value')"
      ],
      "execution_count": 24,
      "outputs": [
        {
          "output_type": "execute_result",
          "data": {
            "text/plain": [
              "Text(0.5, 1.0, 'Total Portfolio Value')"
            ]
          },
          "metadata": {
            "tags": []
          },
          "execution_count": 24
        },
        {
          "output_type": "display_data",
          "data": {
            "image/png": "[encoded data removed]",
            "text/plain": [
              "<Figure size 720x576 with 1 Axes>"
            ]
          },
          "metadata": {
            "tags": [],
            "needs_background": "light"
          }
        }
      ]
    },
    {
      "cell_type": "code",
      "metadata": {
        "colab": {
          "base_uri": "https://localhost:8080/",
          "height": 482
        },
        "id": "gke3BBDY6jK4",
        "outputId": "04563e2a-584d-474f-b467-79e7cae989d1"
      },
      "source": [
        "portfolio_val.drop('Total Pos', axis=1).plot(figsize=(10,8))"
      ],
      "execution_count": 25,
      "outputs": [
        {
          "output_type": "execute_result",
          "data": {
            "text/plain": [
              "<matplotlib.axes._subplots.AxesSubplot at 0x7fca80d1a908>"
            ]
          },
          "metadata": {
            "tags": []
          },
          "execution_count": 25
        },
        {
          "output_type": "display_data",
          "data": {
            "image/png": "[encoded data removed]",
            "text/plain": [
              "<Figure size 720x576 with 1 Axes>"
            ]
          },
          "metadata": {
            "tags": [],
            "needs_background": "light"
          }
        }
      ]
    },
    {
      "cell_type": "markdown",
      "metadata": {
        "id": "TvbI3unB7FoK"
      },
      "source": [
        "# Portfolio Statistics"
      ]
    },
    {
      "cell_type": "code",
      "metadata": {
        "id": "HyGcrQYP6wRn"
      },
      "source": [
        "portfolio_val['Daily Return'] = portfolio_val['Total Pos'].pct_change(1)"
      ],
      "execution_count": 26,
      "outputs": []
    },
    {
      "cell_type": "code",
      "metadata": {
        "colab": {
          "base_uri": "https://localhost:8080/",
          "height": 235
        },
        "id": "OI-itYEo7SjP",
        "outputId": "c4c83a73-660e-4991-c341-a0ed539e7917"
      },
      "source": [
        "portfolio_val.head()"
      ],
      "execution_count": 27,
      "outputs": [
        {
          "output_type": "execute_result",
          "data": {
            "text/html": [
              "<div>\n",
              "<style scoped>\n",
              "    .dataframe tbody tr th:only-of-type {\n",
              "        vertical-align: middle;\n",
              "    }\n",
              "\n",
              "    .dataframe tbody tr th {\n",
              "        vertical-align: top;\n",
              "    }\n",
              "\n",
              "    .dataframe thead th {\n",
              "        text-align: right;\n",
              "    }\n",
              "</style>\n",
              "<table border=\"1\" class=\"dataframe\">\n",
              "  <thead>\n",
              "    <tr style=\"text-align: right;\">\n",
              "      <th></th>\n",
              "      <th>AAPL Pos</th>\n",
              "      <th>CISCO Pos</th>\n",
              "      <th>IBM Pos</th>\n",
              "      <th>AMZN Pos</th>\n",
              "      <th>Total Pos</th>\n",
              "      <th>Daily Return</th>\n",
              "    </tr>\n",
              "    <tr>\n",
              "      <th>Date</th>\n",
              "      <th></th>\n",
              "      <th></th>\n",
              "      <th></th>\n",
              "      <th></th>\n",
              "      <th></th>\n",
              "      <th></th>\n",
              "    </tr>\n",
              "  </thead>\n",
              "  <tbody>\n",
              "    <tr>\n",
              "      <th>2012-01-03</th>\n",
              "      <td>300000.000000</td>\n",
              "      <td>200000.000000</td>\n",
              "      <td>400000.000000</td>\n",
              "      <td>100000.000000</td>\n",
              "      <td>1.000000e+06</td>\n",
              "      <td>NaN</td>\n",
              "    </tr>\n",
              "    <tr>\n",
              "      <th>2012-01-04</th>\n",
              "      <td>301612.236461</td>\n",
              "      <td>203864.734300</td>\n",
              "      <td>398368.223296</td>\n",
              "      <td>99150.980283</td>\n",
              "      <td>1.002996e+06</td>\n",
              "      <td>0.002996</td>\n",
              "    </tr>\n",
              "    <tr>\n",
              "      <th>2012-01-05</th>\n",
              "      <td>304960.727573</td>\n",
              "      <td>203113.258186</td>\n",
              "      <td>396478.797638</td>\n",
              "      <td>99206.836843</td>\n",
              "      <td>1.003760e+06</td>\n",
              "      <td>0.000761</td>\n",
              "    </tr>\n",
              "    <tr>\n",
              "      <th>2012-01-06</th>\n",
              "      <td>308148.724558</td>\n",
              "      <td>202361.782072</td>\n",
              "      <td>391926.999463</td>\n",
              "      <td>101999.664861</td>\n",
              "      <td>1.004437e+06</td>\n",
              "      <td>0.000675</td>\n",
              "    </tr>\n",
              "    <tr>\n",
              "      <th>2012-01-09</th>\n",
              "      <td>307659.946988</td>\n",
              "      <td>203650.026838</td>\n",
              "      <td>389887.278583</td>\n",
              "      <td>99737.474166</td>\n",
              "      <td>1.000935e+06</td>\n",
              "      <td>-0.003487</td>\n",
              "    </tr>\n",
              "  </tbody>\n",
              "</table>\n",
              "</div>"
            ],
            "text/plain": [
              "                 AAPL Pos      CISCO Pos  ...     Total Pos  Daily Return\n",
              "Date                                      ...                            \n",
              "2012-01-03  300000.000000  200000.000000  ...  1.000000e+06           NaN\n",
              "2012-01-04  301612.236461  203864.734300  ...  1.002996e+06      0.002996\n",
              "2012-01-05  304960.727573  203113.258186  ...  1.003760e+06      0.000761\n",
              "2012-01-06  308148.724558  202361.782072  ...  1.004437e+06      0.000675\n",
              "2012-01-09  307659.946988  203650.026838  ...  1.000935e+06     -0.003487\n",
              "\n",
              "[5 rows x 6 columns]"
            ]
          },
          "metadata": {
            "tags": []
          },
          "execution_count": 27
        }
      ]
    },
    {
      "cell_type": "code",
      "metadata": {
        "colab": {
          "base_uri": "https://localhost:8080/"
        },
        "id": "le0JqXOR7VQZ",
        "outputId": "ae234f1a-84ba-438a-bfdc-7500eb5083ac"
      },
      "source": [
        "print(portfolio_val['Daily Return'].mean())\r\n",
        "print(portfolio_val['Daily Return'].std())"
      ],
      "execution_count": 28,
      "outputs": [
        {
          "output_type": "stream",
          "text": [
            "0.0005442330716215244\n",
            "0.010568287769161718\n"
          ],
          "name": "stdout"
        }
      ]
    },
    {
      "cell_type": "code",
      "metadata": {
        "colab": {
          "base_uri": "https://localhost:8080/",
          "height": 337
        },
        "id": "eeDbbQ1q7hPA",
        "outputId": "38b291b5-1334-486c-e658-fd6df5180f73"
      },
      "source": [
        "portfolio_val['Daily Return'].plot(kind='hist', bins=100, figsize=(4,5))"
      ],
      "execution_count": 30,
      "outputs": [
        {
          "output_type": "execute_result",
          "data": {
            "text/plain": [
              "<matplotlib.axes._subplots.AxesSubplot at 0x7fca7f3b07f0>"
            ]
          },
          "metadata": {
            "tags": []
          },
          "execution_count": 30
        },
        {
          "output_type": "display_data",
          "data": {
            "image/png": "[encoded data removed]",
            "text/plain": [
              "<Figure size 288x360 with 1 Axes>"
            ]
          },
          "metadata": {
            "tags": [],
            "needs_background": "light"
          }
        }
      ]
    },
    {
      "cell_type": "code",
      "metadata": {
        "colab": {
          "base_uri": "https://localhost:8080/",
          "height": 337
        },
        "id": "ecG2eBzV7uuX",
        "outputId": "cac3e808-372e-4516-f44b-7c0cfa9c379e"
      },
      "source": [
        "portfolio_val['Daily Return'].plot(kind='kde', figsize=(4,5))"
      ],
      "execution_count": 31,
      "outputs": [
        {
          "output_type": "execute_result",
          "data": {
            "text/plain": [
              "<matplotlib.axes._subplots.AxesSubplot at 0x7fca7d961780>"
            ]
          },
          "metadata": {
            "tags": []
          },
          "execution_count": 31
        },
        {
          "output_type": "display_data",
          "data": {
            "image/png": "[encoded data removed]",
            "text/plain": [
              "<Figure size 288x360 with 1 Axes>"
            ]
          },
          "metadata": {
            "tags": [],
            "needs_background": "light"
          }
        }
      ]
    },
    {
      "cell_type": "code",
      "metadata": {
        "id": "69Ut0Voj73hX"
      },
      "source": [
        "cumulative_retrun = 100*(portfolio_val['Total Pos'][-1]/portfolio_val['Total Pos'][0] - 1)"
      ],
      "execution_count": 32,
      "outputs": []
    },
    {
      "cell_type": "code",
      "metadata": {
        "colab": {
          "base_uri": "https://localhost:8080/"
        },
        "id": "y0U-PlUs8OU-",
        "outputId": "1cf0c444-8f30-480e-b533-3e3797e296ce"
      },
      "source": [
        "cumulative_retrun"
      ],
      "execution_count": 33,
      "outputs": [
        {
          "output_type": "execute_result",
          "data": {
            "text/plain": [
              "84.74285181665545"
            ]
          },
          "metadata": {
            "tags": []
          },
          "execution_count": 33
        }
      ]
    },
    {
      "cell_type": "code",
      "metadata": {
        "id": "32nyxx6f8P71"
      },
      "source": [
        "# Assuming Risk Free Rate to be 0%\r\n",
        "sr = portfolio_val['Daily Return'].mean()/portfolio_val['Daily Return'].std()"
      ],
      "execution_count": 34,
      "outputs": []
    },
    {
      "cell_type": "code",
      "metadata": {
        "colab": {
          "base_uri": "https://localhost:8080/"
        },
        "id": "O8fgcebC8lx-",
        "outputId": "d96bdc15-aa40-415b-d232-00041c8f2a58"
      },
      "source": [
        "sr"
      ],
      "execution_count": 35,
      "outputs": [
        {
          "output_type": "execute_result",
          "data": {
            "text/plain": [
              "0.05149680662648092"
            ]
          },
          "metadata": {
            "tags": []
          },
          "execution_count": 35
        }
      ]
    },
    {
      "cell_type": "code",
      "metadata": {
        "colab": {
          "base_uri": "https://localhost:8080/"
        },
        "id": "Gqzp-kRa8mZ_",
        "outputId": "60738d7e-a12c-4607-9bf6-b2a8cde919cb"
      },
      "source": [
        "# Multiplying sharpe ratio by sqrt(252) as there are 252 trading days in a year\r\n",
        "asr = sr*(252**0.5)\r\n",
        "asr"
      ],
      "execution_count": 36,
      "outputs": [
        {
          "output_type": "execute_result",
          "data": {
            "text/plain": [
              "0.8174864618859096"
            ]
          },
          "metadata": {
            "tags": []
          },
          "execution_count": 36
        }
      ]
    }
  ]
}