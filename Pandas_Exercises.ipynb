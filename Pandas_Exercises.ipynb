{
  "nbformat": 4,
  "nbformat_minor": 0,
  "metadata": {
    "kernelspec": {
      "display_name": "Python 3",
      "language": "python",
      "name": "python3"
    },
    "language_info": {
      "codemirror_mode": {
        "name": "ipython",
        "version": 3
      },
      "file_extension": ".py",
      "mimetype": "text/x-python",
      "name": "python",
      "nbconvert_exporter": "python",
      "pygments_lexer": "ipython3",
      "version": "3.7.4"
    },
    "colab": {
      "name": "Pandas Exercises.ipynb",
      "provenance": [],
      "include_colab_link": true
    }
  },
  "cells": [
    {
      "cell_type": "markdown",
      "metadata": {
        "id": "view-in-github",
        "colab_type": "text"
      },
      "source": [
        "<a href=\"https://colab.research.google.com/github/aayush1036/python_for_financial_analysis/blob/main/Pandas_Exercises.ipynb\" target=\"_parent\"><img src=\"https://colab.research.google.com/assets/colab-badge.svg\" alt=\"Open In Colab\"/></a>"
      ]
    },
    {
      "cell_type": "markdown",
      "metadata": {
        "id": "SnwhGSC5R4SF"
      },
      "source": [
        "# Pandas Exercises"
      ]
    },
    {
      "cell_type": "markdown",
      "metadata": {
        "id": "BjWFm749R4SF"
      },
      "source": [
        "Time to test your new pandas skills! Use the two csv files in this folder to complete the tasks in bold below!\n",
        "\n",
        "** NOTE: ALL TASKS MUST BE DONE IN ONE LINE OF PANDAS CODE. GOT STUCK? NO PROBLEM! CHECK OUT THE SOLUTIONS LECTURE! **"
      ]
    },
    {
      "cell_type": "markdown",
      "metadata": {
        "id": "89qgJ1GeR4SG"
      },
      "source": [
        "** Import pandas and read in the banklist.csv file into a dataframe called banks. **"
      ]
    },
    {
      "cell_type": "code",
      "metadata": {
        "id": "fz2b2AhOR4SG"
      },
      "source": [
        "import pandas as pd"
      ],
      "execution_count": null,
      "outputs": []
    },
    {
      "cell_type": "code",
      "metadata": {
        "id": "lAf91YrXR4SG"
      },
      "source": [
        "banks = pd.read_csv('banklist.csv')"
      ],
      "execution_count": null,
      "outputs": []
    },
    {
      "cell_type": "code",
      "metadata": {
        "id": "TzM0ph9_R4SG"
      },
      "source": [
        ""
      ],
      "execution_count": null,
      "outputs": []
    },
    {
      "cell_type": "markdown",
      "metadata": {
        "id": "sRnVmeo6R4SG"
      },
      "source": [
        "** Show the head of the dataframe **"
      ]
    },
    {
      "cell_type": "code",
      "metadata": {
        "id": "IT-F-rT7R4SG",
        "outputId": "40db7b5d-6f7d-4ecb-9c82-27e176034747"
      },
      "source": [
        "# CODE HERE\n",
        "banks.head()"
      ],
      "execution_count": null,
      "outputs": [
        {
          "output_type": "execute_result",
          "data": {
            "text/html": [
              "<div>\n",
              "<style scoped>\n",
              "    .dataframe tbody tr th:only-of-type {\n",
              "        vertical-align: middle;\n",
              "    }\n",
              "\n",
              "    .dataframe tbody tr th {\n",
              "        vertical-align: top;\n",
              "    }\n",
              "\n",
              "    .dataframe thead th {\n",
              "        text-align: right;\n",
              "    }\n",
              "</style>\n",
              "<table border=\"1\" class=\"dataframe\">\n",
              "  <thead>\n",
              "    <tr style=\"text-align: right;\">\n",
              "      <th></th>\n",
              "      <th>Bank Name</th>\n",
              "      <th>City</th>\n",
              "      <th>ST</th>\n",
              "      <th>CERT</th>\n",
              "      <th>Acquiring Institution</th>\n",
              "      <th>Closing Date</th>\n",
              "      <th>Updated Date</th>\n",
              "    </tr>\n",
              "  </thead>\n",
              "  <tbody>\n",
              "    <tr>\n",
              "      <td>0</td>\n",
              "      <td>Fayette County Bank</td>\n",
              "      <td>Saint Elmo</td>\n",
              "      <td>IL</td>\n",
              "      <td>1802</td>\n",
              "      <td>United Fidelity Bank, fsb</td>\n",
              "      <td>26-May-17</td>\n",
              "      <td>1-Jun-17</td>\n",
              "    </tr>\n",
              "    <tr>\n",
              "      <td>1</td>\n",
              "      <td>Guaranty Bank, (d/b/a BestBank in Georgia &amp; Mi...</td>\n",
              "      <td>Milwaukee</td>\n",
              "      <td>WI</td>\n",
              "      <td>30003</td>\n",
              "      <td>First-Citizens Bank &amp; Trust Company</td>\n",
              "      <td>5-May-17</td>\n",
              "      <td>1-Jun-17</td>\n",
              "    </tr>\n",
              "    <tr>\n",
              "      <td>2</td>\n",
              "      <td>First NBC Bank</td>\n",
              "      <td>New Orleans</td>\n",
              "      <td>LA</td>\n",
              "      <td>58302</td>\n",
              "      <td>Whitney Bank</td>\n",
              "      <td>28-Apr-17</td>\n",
              "      <td>23-May-17</td>\n",
              "    </tr>\n",
              "    <tr>\n",
              "      <td>3</td>\n",
              "      <td>Proficio Bank</td>\n",
              "      <td>Cottonwood Heights</td>\n",
              "      <td>UT</td>\n",
              "      <td>35495</td>\n",
              "      <td>Cache Valley Bank</td>\n",
              "      <td>3-Mar-17</td>\n",
              "      <td>18-May-17</td>\n",
              "    </tr>\n",
              "    <tr>\n",
              "      <td>4</td>\n",
              "      <td>Seaway Bank and Trust Company</td>\n",
              "      <td>Chicago</td>\n",
              "      <td>IL</td>\n",
              "      <td>19328</td>\n",
              "      <td>State Bank of Texas</td>\n",
              "      <td>27-Jan-17</td>\n",
              "      <td>18-May-17</td>\n",
              "    </tr>\n",
              "  </tbody>\n",
              "</table>\n",
              "</div>"
            ],
            "text/plain": [
              "                                           Bank Name                City  ST  \\\n",
              "0                                Fayette County Bank          Saint Elmo  IL   \n",
              "1  Guaranty Bank, (d/b/a BestBank in Georgia & Mi...           Milwaukee  WI   \n",
              "2                                     First NBC Bank         New Orleans  LA   \n",
              "3                                      Proficio Bank  Cottonwood Heights  UT   \n",
              "4                      Seaway Bank and Trust Company             Chicago  IL   \n",
              "\n",
              "    CERT                Acquiring Institution Closing Date Updated Date  \n",
              "0   1802            United Fidelity Bank, fsb    26-May-17     1-Jun-17  \n",
              "1  30003  First-Citizens Bank & Trust Company     5-May-17     1-Jun-17  \n",
              "2  58302                         Whitney Bank    28-Apr-17    23-May-17  \n",
              "3  35495                    Cache Valley Bank     3-Mar-17    18-May-17  \n",
              "4  19328                  State Bank of Texas    27-Jan-17    18-May-17  "
            ]
          },
          "metadata": {
            "tags": []
          },
          "execution_count": 4
        }
      ]
    },
    {
      "cell_type": "code",
      "metadata": {
        "id": "reMDIr4DR4SI"
      },
      "source": [
        ""
      ],
      "execution_count": null,
      "outputs": []
    },
    {
      "cell_type": "markdown",
      "metadata": {
        "id": "nKAq1aFeR4SI"
      },
      "source": [
        "** What are the column names? **"
      ]
    },
    {
      "cell_type": "code",
      "metadata": {
        "id": "CQi9XnCoR4SI",
        "outputId": "985e3838-309a-45de-8ddc-f3d6833e1342"
      },
      "source": [
        "# CODE HERE\n",
        "banks.columns"
      ],
      "execution_count": null,
      "outputs": [
        {
          "output_type": "execute_result",
          "data": {
            "text/plain": [
              "Index(['Bank Name', 'City', 'ST', 'CERT', 'Acquiring Institution',\n",
              "       'Closing Date', 'Updated Date'],\n",
              "      dtype='object')"
            ]
          },
          "metadata": {
            "tags": []
          },
          "execution_count": 6
        }
      ]
    },
    {
      "cell_type": "code",
      "metadata": {
        "id": "RpWZy9FLR4SI"
      },
      "source": [
        ""
      ],
      "execution_count": null,
      "outputs": []
    },
    {
      "cell_type": "markdown",
      "metadata": {
        "id": "O4YSyLCTR4SI"
      },
      "source": [
        "** How many States (ST) are represented in this data set? **"
      ]
    },
    {
      "cell_type": "code",
      "metadata": {
        "id": "Fxi5ubWjR4SI",
        "outputId": "f41a2b94-b13c-46e8-fe01-f90f148ad03f"
      },
      "source": [
        "# CODE HERE\n",
        "banks['ST'].nunique()"
      ],
      "execution_count": null,
      "outputs": [
        {
          "output_type": "execute_result",
          "data": {
            "text/plain": [
              "44"
            ]
          },
          "metadata": {
            "tags": []
          },
          "execution_count": 7
        }
      ]
    },
    {
      "cell_type": "code",
      "metadata": {
        "id": "99_lXmYMR4SJ",
        "outputId": "385fadfd-73dd-4901-891f-67763eb15bc4"
      },
      "source": [
        ""
      ],
      "execution_count": null,
      "outputs": [
        {
          "output_type": "execute_result",
          "data": {
            "text/plain": [
              "44"
            ]
          },
          "metadata": {
            "tags": []
          },
          "execution_count": 33
        }
      ]
    },
    {
      "cell_type": "markdown",
      "metadata": {
        "id": "C0ksBJJ6R4SJ"
      },
      "source": [
        "** Get a list or array of all the states in the data set. **"
      ]
    },
    {
      "cell_type": "code",
      "metadata": {
        "id": "0RaFehi_R4SJ",
        "outputId": "c0d25d4e-6481-4c82-b909-32c2847a5fac"
      },
      "source": [
        "# CODE HERE\n",
        "banks['ST'].unique()"
      ],
      "execution_count": null,
      "outputs": [
        {
          "output_type": "execute_result",
          "data": {
            "text/plain": [
              "array(['IL', 'WI', 'LA', 'UT', 'NJ', 'AR', 'GA', 'PA', 'TN', 'WA', 'CO',\n",
              "       'PR', 'FL', 'MN', 'CA', 'MD', 'OK', 'OH', 'SC', 'VA', 'ID', 'TX',\n",
              "       'CT', 'AZ', 'NV', 'NC', 'KY', 'MO', 'KS', 'AL', 'MI', 'IN', 'IA',\n",
              "       'NE', 'MS', 'NM', 'OR', 'NY', 'MA', 'SD', 'WY', 'WV', 'NH', 'HI'],\n",
              "      dtype=object)"
            ]
          },
          "metadata": {
            "tags": []
          },
          "execution_count": 8
        }
      ]
    },
    {
      "cell_type": "code",
      "metadata": {
        "id": "6at5UzjiR4SJ",
        "outputId": "dba5c791-442c-44fa-bfc1-a61c50e93432"
      },
      "source": [
        ""
      ],
      "execution_count": null,
      "outputs": [
        {
          "output_type": "execute_result",
          "data": {
            "text/plain": [
              "array(['IL', 'WI', 'LA', 'UT', 'NJ', 'AR', 'GA', 'PA', 'TN', 'WA', 'CO',\n",
              "       'PR', 'FL', 'MN', 'CA', 'MD', 'OK', 'OH', 'SC', 'VA', 'ID', 'TX',\n",
              "       'CT', 'AZ', 'NV', 'NC', 'KY', 'MO', 'KS', 'AL', 'MI', 'IN', 'IA',\n",
              "       'NE', 'MS', 'NM', 'OR', 'NY', 'MA', 'SD', 'WY', 'WV', 'NH', 'HI'], dtype=object)"
            ]
          },
          "metadata": {
            "tags": []
          },
          "execution_count": 32
        }
      ]
    },
    {
      "cell_type": "markdown",
      "metadata": {
        "id": "kIGVRw-JR4SJ"
      },
      "source": [
        "** What are the top 5 states with the most failed banks? **"
      ]
    },
    {
      "cell_type": "code",
      "metadata": {
        "scrolled": true,
        "id": "UrLkGRSPR4SJ",
        "outputId": "687199af-94d6-4152-cfc5-b4a72a09a7a5"
      },
      "source": [
        "# CODE HERE\n",
        "banks.groupby('ST').count().sort_values('Bank Name', ascending=False).iloc[:5]['Bank Name']\n",
        "# Here we are grouping the banks by their states and counting the number of banks in each state\n",
        "# Since we want the top 5 states, we chain the sort values functino and sort the banks by bank name and get top 5 values\n",
        "# Then we extract the bank name column because the bank name column stores the count of the banks which failed and that is \n",
        "# what we want"
      ],
      "execution_count": null,
      "outputs": [
        {
          "output_type": "execute_result",
          "data": {
            "text/plain": [
              "ST\n",
              "GA    93\n",
              "FL    75\n",
              "IL    67\n",
              "CA    41\n",
              "MN    23\n",
              "Name: Bank Name, dtype: int64"
            ]
          },
          "metadata": {
            "tags": []
          },
          "execution_count": 52
        }
      ]
    },
    {
      "cell_type": "code",
      "metadata": {
        "id": "OVkaYij4R4SJ",
        "outputId": "a9cb7ab4-df79-4e26-d30b-f5f9f471fe65"
      },
      "source": [
        ""
      ],
      "execution_count": null,
      "outputs": [
        {
          "output_type": "execute_result",
          "data": {
            "text/plain": [
              "ST\n",
              "GA    93\n",
              "FL    75\n",
              "IL    67\n",
              "CA    41\n",
              "MN    23\n",
              "Name: Bank Name, dtype: int64"
            ]
          },
          "metadata": {
            "tags": []
          },
          "execution_count": 35
        }
      ]
    },
    {
      "cell_type": "markdown",
      "metadata": {
        "id": "TwGy1sWHR4SJ"
      },
      "source": [
        "** What are the top 5 acquiring institutions? **"
      ]
    },
    {
      "cell_type": "code",
      "metadata": {
        "id": "Uf8OCBctR4SJ",
        "outputId": "a10452d3-23d7-4470-abf7-d2751f9a137f"
      },
      "source": [
        "# CODE HERE\n",
        "banks['Acquiring Institution'].value_counts().iloc[:5]\n",
        "# Here we extract the acquiring institution column and apply the value counts function which returns the value \n",
        "# and the counts of the corresponding values\n",
        "# And then we fetch the top 5 values"
      ],
      "execution_count": null,
      "outputs": [
        {
          "output_type": "execute_result",
          "data": {
            "text/plain": [
              "No Acquirer                            31\n",
              "State Bank and Trust Company           12\n",
              "First-Citizens Bank & Trust Company    11\n",
              "Ameris Bank                            10\n",
              "U.S. Bank N.A.                          9\n",
              "Name: Acquiring Institution, dtype: int64"
            ]
          },
          "metadata": {
            "tags": []
          },
          "execution_count": 53
        }
      ]
    },
    {
      "cell_type": "code",
      "metadata": {
        "id": "hQFnbBoqR4SJ",
        "outputId": "210f031c-f0e7-4767-cef0-080f2875ae65"
      },
      "source": [
        ""
      ],
      "execution_count": null,
      "outputs": [
        {
          "output_type": "execute_result",
          "data": {
            "text/plain": [
              "No Acquirer                            31\n",
              "State Bank and Trust Company           12\n",
              "First-Citizens Bank & Trust Company    11\n",
              "Ameris Bank                            10\n",
              "U.S. Bank N.A.                          9\n",
              "Name: Acquiring Institution, dtype: int64"
            ]
          },
          "metadata": {
            "tags": []
          },
          "execution_count": 14
        }
      ]
    },
    {
      "cell_type": "markdown",
      "metadata": {
        "id": "2zLrpxI9R4SJ"
      },
      "source": [
        "** How many banks has the State Bank of Texas acquired? How many of them were actually in Texas?**"
      ]
    },
    {
      "cell_type": "code",
      "metadata": {
        "id": "9imhrhCfR4SJ",
        "outputId": "03323f84-f154-4558-cb72-1bc1bccec93d"
      },
      "source": [
        "# CODE HERE\n",
        "banks[banks['Acquiring Institution'] == 'State Bank of Texas']\n",
        "#conditional selection of acquiring institution == 'State Bank of Texas'"
      ],
      "execution_count": null,
      "outputs": [
        {
          "output_type": "execute_result",
          "data": {
            "text/html": [
              "<div>\n",
              "<style scoped>\n",
              "    .dataframe tbody tr th:only-of-type {\n",
              "        vertical-align: middle;\n",
              "    }\n",
              "\n",
              "    .dataframe tbody tr th {\n",
              "        vertical-align: top;\n",
              "    }\n",
              "\n",
              "    .dataframe thead th {\n",
              "        text-align: right;\n",
              "    }\n",
              "</style>\n",
              "<table border=\"1\" class=\"dataframe\">\n",
              "  <thead>\n",
              "    <tr style=\"text-align: right;\">\n",
              "      <th></th>\n",
              "      <th>Bank Name</th>\n",
              "      <th>City</th>\n",
              "      <th>ST</th>\n",
              "      <th>CERT</th>\n",
              "      <th>Acquiring Institution</th>\n",
              "      <th>Closing Date</th>\n",
              "      <th>Updated Date</th>\n",
              "    </tr>\n",
              "  </thead>\n",
              "  <tbody>\n",
              "    <tr>\n",
              "      <td>4</td>\n",
              "      <td>Seaway Bank and Trust Company</td>\n",
              "      <td>Chicago</td>\n",
              "      <td>IL</td>\n",
              "      <td>19328</td>\n",
              "      <td>State Bank of Texas</td>\n",
              "      <td>27-Jan-17</td>\n",
              "      <td>18-May-17</td>\n",
              "    </tr>\n",
              "    <tr>\n",
              "      <td>21</td>\n",
              "      <td>The National Republic Bank of Chicago</td>\n",
              "      <td>Chicago</td>\n",
              "      <td>IL</td>\n",
              "      <td>916</td>\n",
              "      <td>State Bank of Texas</td>\n",
              "      <td>24-Oct-14</td>\n",
              "      <td>6-Jan-16</td>\n",
              "    </tr>\n",
              "    <tr>\n",
              "      <td>450</td>\n",
              "      <td>Millennium State Bank of Texas</td>\n",
              "      <td>Dallas</td>\n",
              "      <td>TX</td>\n",
              "      <td>57667</td>\n",
              "      <td>State Bank of Texas</td>\n",
              "      <td>2-Jul-09</td>\n",
              "      <td>26-Oct-12</td>\n",
              "    </tr>\n",
              "  </tbody>\n",
              "</table>\n",
              "</div>"
            ],
            "text/plain": [
              "                                 Bank Name     City  ST   CERT  \\\n",
              "4            Seaway Bank and Trust Company  Chicago  IL  19328   \n",
              "21   The National Republic Bank of Chicago  Chicago  IL    916   \n",
              "450         Millennium State Bank of Texas   Dallas  TX  57667   \n",
              "\n",
              "    Acquiring Institution Closing Date Updated Date  \n",
              "4     State Bank of Texas    27-Jan-17    18-May-17  \n",
              "21    State Bank of Texas    24-Oct-14     6-Jan-16  \n",
              "450   State Bank of Texas     2-Jul-09    26-Oct-12  "
            ]
          },
          "metadata": {
            "tags": []
          },
          "execution_count": 12
        }
      ]
    },
    {
      "cell_type": "code",
      "metadata": {
        "id": "Mi_jfyE6R4SJ",
        "outputId": "8c17d79a-b23c-405c-c8f4-3200ad8190cc"
      },
      "source": [
        "# CODE HERE\n",
        "banks[(banks['Acquiring Institution'] == 'State Bank of Texas')&(banks['ST'] == 'TX')]\n",
        "#conditional selection of acquiring institution == 'State Bank of Texas'\n",
        "#logically this should be the right answer as the second part of the question says how many of them were actually in texas"
      ],
      "execution_count": null,
      "outputs": [
        {
          "output_type": "execute_result",
          "data": {
            "text/html": [
              "<div>\n",
              "<style scoped>\n",
              "    .dataframe tbody tr th:only-of-type {\n",
              "        vertical-align: middle;\n",
              "    }\n",
              "\n",
              "    .dataframe tbody tr th {\n",
              "        vertical-align: top;\n",
              "    }\n",
              "\n",
              "    .dataframe thead th {\n",
              "        text-align: right;\n",
              "    }\n",
              "</style>\n",
              "<table border=\"1\" class=\"dataframe\">\n",
              "  <thead>\n",
              "    <tr style=\"text-align: right;\">\n",
              "      <th></th>\n",
              "      <th>Bank Name</th>\n",
              "      <th>City</th>\n",
              "      <th>ST</th>\n",
              "      <th>CERT</th>\n",
              "      <th>Acquiring Institution</th>\n",
              "      <th>Closing Date</th>\n",
              "      <th>Updated Date</th>\n",
              "    </tr>\n",
              "  </thead>\n",
              "  <tbody>\n",
              "    <tr>\n",
              "      <td>450</td>\n",
              "      <td>Millennium State Bank of Texas</td>\n",
              "      <td>Dallas</td>\n",
              "      <td>TX</td>\n",
              "      <td>57667</td>\n",
              "      <td>State Bank of Texas</td>\n",
              "      <td>2-Jul-09</td>\n",
              "      <td>26-Oct-12</td>\n",
              "    </tr>\n",
              "  </tbody>\n",
              "</table>\n",
              "</div>"
            ],
            "text/plain": [
              "                          Bank Name    City  ST   CERT Acquiring Institution  \\\n",
              "450  Millennium State Bank of Texas  Dallas  TX  57667   State Bank of Texas   \n",
              "\n",
              "    Closing Date Updated Date  \n",
              "450     2-Jul-09    26-Oct-12  "
            ]
          },
          "metadata": {
            "tags": []
          },
          "execution_count": 45
        }
      ]
    },
    {
      "cell_type": "code",
      "metadata": {
        "id": "zEUzH7wZR4SK",
        "outputId": "62011053-608e-4424-f913-3d25af3fac22"
      },
      "source": [
        ""
      ],
      "execution_count": null,
      "outputs": [
        {
          "output_type": "execute_result",
          "data": {
            "text/html": [
              "<div>\n",
              "<style>\n",
              "    .dataframe thead tr:only-child th {\n",
              "        text-align: right;\n",
              "    }\n",
              "\n",
              "    .dataframe thead th {\n",
              "        text-align: left;\n",
              "    }\n",
              "\n",
              "    .dataframe tbody tr th {\n",
              "        vertical-align: top;\n",
              "    }\n",
              "</style>\n",
              "<table border=\"1\" class=\"dataframe\">\n",
              "  <thead>\n",
              "    <tr style=\"text-align: right;\">\n",
              "      <th></th>\n",
              "      <th>Bank Name</th>\n",
              "      <th>City</th>\n",
              "      <th>ST</th>\n",
              "      <th>CERT</th>\n",
              "      <th>Acquiring Institution</th>\n",
              "      <th>Closing Date</th>\n",
              "      <th>Updated Date</th>\n",
              "    </tr>\n",
              "  </thead>\n",
              "  <tbody>\n",
              "    <tr>\n",
              "      <th>4</th>\n",
              "      <td>Seaway Bank and Trust Company</td>\n",
              "      <td>Chicago</td>\n",
              "      <td>IL</td>\n",
              "      <td>19328</td>\n",
              "      <td>State Bank of Texas</td>\n",
              "      <td>27-Jan-17</td>\n",
              "      <td>18-May-17</td>\n",
              "    </tr>\n",
              "    <tr>\n",
              "      <th>21</th>\n",
              "      <td>The National Republic Bank of Chicago</td>\n",
              "      <td>Chicago</td>\n",
              "      <td>IL</td>\n",
              "      <td>916</td>\n",
              "      <td>State Bank of Texas</td>\n",
              "      <td>24-Oct-14</td>\n",
              "      <td>6-Jan-16</td>\n",
              "    </tr>\n",
              "    <tr>\n",
              "      <th>450</th>\n",
              "      <td>Millennium State Bank of Texas</td>\n",
              "      <td>Dallas</td>\n",
              "      <td>TX</td>\n",
              "      <td>57667</td>\n",
              "      <td>State Bank of Texas</td>\n",
              "      <td>2-Jul-09</td>\n",
              "      <td>26-Oct-12</td>\n",
              "    </tr>\n",
              "  </tbody>\n",
              "</table>\n",
              "</div>"
            ],
            "text/plain": [
              "                                 Bank Name     City  ST   CERT  \\\n",
              "4            Seaway Bank and Trust Company  Chicago  IL  19328   \n",
              "21   The National Republic Bank of Chicago  Chicago  IL    916   \n",
              "450         Millennium State Bank of Texas   Dallas  TX  57667   \n",
              "\n",
              "    Acquiring Institution Closing Date Updated Date  \n",
              "4     State Bank of Texas    27-Jan-17    18-May-17  \n",
              "21    State Bank of Texas    24-Oct-14     6-Jan-16  \n",
              "450   State Bank of Texas     2-Jul-09    26-Oct-12  "
            ]
          },
          "metadata": {
            "tags": []
          },
          "execution_count": 15
        }
      ]
    },
    {
      "cell_type": "markdown",
      "metadata": {
        "id": "Ijt4HaVlR4SK"
      },
      "source": [
        "** What is the most common city in California for a bank to fail in?**"
      ]
    },
    {
      "cell_type": "code",
      "metadata": {
        "id": "5PcgpuTnR4SK",
        "outputId": "8d15333c-50e8-4679-dd6a-5c047f72e066"
      },
      "source": [
        "# CODE HERE\n",
        "banks[banks['ST'] == 'CA'].groupby('City').count().sort_values(by='Bank Name',ascending=False).head(1)\n",
        "#Here we are doing conditional selection where ST == CA and then grouping by city to get the data of all the cities in CA\n",
        "#Then since the question asks about the most common city to fail in, we sort the values by bank name in descending order\n",
        "#Then we display the top row by using the head() function and passing 1 in it"
      ],
      "execution_count": null,
      "outputs": [
        {
          "output_type": "execute_result",
          "data": {
            "text/html": [
              "<div>\n",
              "<style scoped>\n",
              "    .dataframe tbody tr th:only-of-type {\n",
              "        vertical-align: middle;\n",
              "    }\n",
              "\n",
              "    .dataframe tbody tr th {\n",
              "        vertical-align: top;\n",
              "    }\n",
              "\n",
              "    .dataframe thead th {\n",
              "        text-align: right;\n",
              "    }\n",
              "</style>\n",
              "<table border=\"1\" class=\"dataframe\">\n",
              "  <thead>\n",
              "    <tr style=\"text-align: right;\">\n",
              "      <th></th>\n",
              "      <th>Bank Name</th>\n",
              "      <th>ST</th>\n",
              "      <th>CERT</th>\n",
              "      <th>Acquiring Institution</th>\n",
              "      <th>Closing Date</th>\n",
              "      <th>Updated Date</th>\n",
              "    </tr>\n",
              "    <tr>\n",
              "      <th>City</th>\n",
              "      <th></th>\n",
              "      <th></th>\n",
              "      <th></th>\n",
              "      <th></th>\n",
              "      <th></th>\n",
              "      <th></th>\n",
              "    </tr>\n",
              "  </thead>\n",
              "  <tbody>\n",
              "    <tr>\n",
              "      <td>Los Angeles</td>\n",
              "      <td>4</td>\n",
              "      <td>4</td>\n",
              "      <td>4</td>\n",
              "      <td>4</td>\n",
              "      <td>4</td>\n",
              "      <td>4</td>\n",
              "    </tr>\n",
              "  </tbody>\n",
              "</table>\n",
              "</div>"
            ],
            "text/plain": [
              "             Bank Name  ST  CERT  Acquiring Institution  Closing Date  \\\n",
              "City                                                                    \n",
              "Los Angeles          4   4     4                      4             4   \n",
              "\n",
              "             Updated Date  \n",
              "City                       \n",
              "Los Angeles             4  "
            ]
          },
          "metadata": {
            "tags": []
          },
          "execution_count": 24
        }
      ]
    },
    {
      "cell_type": "code",
      "metadata": {
        "id": "MS36qsg2R4SK",
        "outputId": "859df88f-aff4-47f1-841a-0bbf5d2d0dc6"
      },
      "source": [
        ""
      ],
      "execution_count": null,
      "outputs": [
        {
          "output_type": "execute_result",
          "data": {
            "text/html": [
              "<div>\n",
              "<style>\n",
              "    .dataframe thead tr:only-child th {\n",
              "        text-align: right;\n",
              "    }\n",
              "\n",
              "    .dataframe thead th {\n",
              "        text-align: left;\n",
              "    }\n",
              "\n",
              "    .dataframe tbody tr th {\n",
              "        vertical-align: top;\n",
              "    }\n",
              "</style>\n",
              "<table border=\"1\" class=\"dataframe\">\n",
              "  <thead>\n",
              "    <tr style=\"text-align: right;\">\n",
              "      <th></th>\n",
              "      <th>Bank Name</th>\n",
              "      <th>ST</th>\n",
              "      <th>CERT</th>\n",
              "      <th>Acquiring Institution</th>\n",
              "      <th>Closing Date</th>\n",
              "      <th>Updated Date</th>\n",
              "    </tr>\n",
              "    <tr>\n",
              "      <th>City</th>\n",
              "      <th></th>\n",
              "      <th></th>\n",
              "      <th></th>\n",
              "      <th></th>\n",
              "      <th></th>\n",
              "      <th></th>\n",
              "    </tr>\n",
              "  </thead>\n",
              "  <tbody>\n",
              "    <tr>\n",
              "      <th>Los Angeles</th>\n",
              "      <td>4</td>\n",
              "      <td>4</td>\n",
              "      <td>4</td>\n",
              "      <td>4</td>\n",
              "      <td>4</td>\n",
              "      <td>4</td>\n",
              "    </tr>\n",
              "  </tbody>\n",
              "</table>\n",
              "</div>"
            ],
            "text/plain": [
              "             Bank Name  ST  CERT  Acquiring Institution  Closing Date  \\\n",
              "City                                                                    \n",
              "Los Angeles          4   4     4                      4             4   \n",
              "\n",
              "             Updated Date  \n",
              "City                       \n",
              "Los Angeles             4  "
            ]
          },
          "metadata": {
            "tags": []
          },
          "execution_count": 24
        }
      ]
    },
    {
      "cell_type": "markdown",
      "metadata": {
        "id": "75spjsXgR4SK"
      },
      "source": [
        "** How many failed banks don't have the word \"Bank\" in their name? **"
      ]
    },
    {
      "cell_type": "code",
      "metadata": {
        "id": "0fsAYYJ1R4SK",
        "outputId": "0cb7f51e-f15a-4c5d-934a-43b751855e1b"
      },
      "source": [
        "# CODE HERE\n",
        "def func(name):\n",
        "    return 'Bank' not in name\n",
        "\n",
        "sum(banks['Bank Name'].apply(func))"
      ],
      "execution_count": null,
      "outputs": [
        {
          "output_type": "execute_result",
          "data": {
            "text/plain": [
              "14"
            ]
          },
          "metadata": {
            "tags": []
          },
          "execution_count": 28
        }
      ]
    },
    {
      "cell_type": "code",
      "metadata": {
        "id": "BeN00nOFR4SK",
        "outputId": "c451a796-3e2f-4d0b-aed6-a44e6d81512b"
      },
      "source": [
        ""
      ],
      "execution_count": null,
      "outputs": [
        {
          "output_type": "execute_result",
          "data": {
            "text/plain": [
              "14"
            ]
          },
          "metadata": {
            "tags": []
          },
          "execution_count": 55
        }
      ]
    },
    {
      "cell_type": "markdown",
      "metadata": {
        "id": "NjZ-PAHtR4SK"
      },
      "source": [
        "** How many bank names start with the letter 's' ? **"
      ]
    },
    {
      "cell_type": "code",
      "metadata": {
        "id": "bJ71Fz1dR4SK",
        "outputId": "2919f964-4c2f-4e28-f681-9069029c6cae"
      },
      "source": [
        "# CODE HERE\n",
        "def func_2(name):\n",
        "    return name[0] == 'S'\n",
        "sum(banks['Bank Name'].apply(func_2))"
      ],
      "execution_count": null,
      "outputs": [
        {
          "output_type": "execute_result",
          "data": {
            "text/plain": [
              "53"
            ]
          },
          "metadata": {
            "tags": []
          },
          "execution_count": 33
        }
      ]
    },
    {
      "cell_type": "code",
      "metadata": {
        "id": "UbJ1Z1fYR4SK",
        "outputId": "e3d1dcbc-8308-4f9b-977e-eda0e09c31de"
      },
      "source": [
        ""
      ],
      "execution_count": null,
      "outputs": [
        {
          "output_type": "execute_result",
          "data": {
            "text/plain": [
              "53"
            ]
          },
          "metadata": {
            "tags": []
          },
          "execution_count": 58
        }
      ]
    },
    {
      "cell_type": "markdown",
      "metadata": {
        "id": "toGHey4hR4SK"
      },
      "source": [
        "** How many CERT values are above 20000 ? **"
      ]
    },
    {
      "cell_type": "code",
      "metadata": {
        "id": "WeunGbNAR4SK",
        "outputId": "68fea4b0-0544-46eb-e86b-82718d7e16e0"
      },
      "source": [
        "# CODE HERE\n",
        "sum(banks['CERT']>20000)"
      ],
      "execution_count": null,
      "outputs": [
        {
          "output_type": "execute_result",
          "data": {
            "text/plain": [
              "417"
            ]
          },
          "metadata": {
            "tags": []
          },
          "execution_count": 36
        }
      ]
    },
    {
      "cell_type": "code",
      "metadata": {
        "id": "PUny9GC2R4SK",
        "outputId": "9c721512-81f9-4aad-a91b-f4a5701a6245"
      },
      "source": [
        ""
      ],
      "execution_count": null,
      "outputs": [
        {
          "output_type": "execute_result",
          "data": {
            "text/plain": [
              "417"
            ]
          },
          "metadata": {
            "tags": []
          },
          "execution_count": 64
        }
      ]
    },
    {
      "cell_type": "markdown",
      "metadata": {
        "id": "7rM7VcjoR4SK"
      },
      "source": [
        "** How many bank names consist of just two words? (e.g. \"First Bank\" , \"Bank Georgia\" )**"
      ]
    },
    {
      "cell_type": "code",
      "metadata": {
        "id": "sC8DR0krR4SK",
        "outputId": "1c43a030-c509-456e-b42f-32d4ecf25bac"
      },
      "source": [
        "# CODE HERE\n",
        "def func_3(word):\n",
        "    if len(word.split()) == 2:\n",
        "        return True\n",
        "    else:\n",
        "        return False\n",
        "sum(banks['Bank Name'].apply(func_3))"
      ],
      "execution_count": null,
      "outputs": [
        {
          "output_type": "execute_result",
          "data": {
            "text/plain": [
              "114"
            ]
          },
          "metadata": {
            "tags": []
          },
          "execution_count": 40
        }
      ]
    },
    {
      "cell_type": "code",
      "metadata": {
        "id": "3VtuhaWWR4SK",
        "outputId": "082b4040-567f-4e2b-948e-c6118cbd411e"
      },
      "source": [
        ""
      ],
      "execution_count": null,
      "outputs": [
        {
          "output_type": "execute_result",
          "data": {
            "text/plain": [
              "114"
            ]
          },
          "metadata": {
            "tags": []
          },
          "execution_count": 67
        }
      ]
    },
    {
      "cell_type": "markdown",
      "metadata": {
        "id": "dbhaU58uR4SK"
      },
      "source": [
        "**Bonus: How many banks closed in the year 2008? (this is hard because we technically haven't learned about time series with pandas yet! Feel free to skip this one!**"
      ]
    },
    {
      "cell_type": "code",
      "metadata": {
        "id": "pw3WPVQ8R4SL",
        "outputId": "04e7dbe7-7c4c-41fb-9cf9-b0eb9e976303"
      },
      "source": [
        "# CODE HERE\n",
        "def func_4(date):\n",
        "    split_date = date.split(sep='-')\n",
        "    if split_date[2] == '08':\n",
        "        return True\n",
        "    else:\n",
        "        return False\n",
        "sum(banks['Closing Date'].apply(func_4))"
      ],
      "execution_count": null,
      "outputs": [
        {
          "output_type": "execute_result",
          "data": {
            "text/plain": [
              "25"
            ]
          },
          "metadata": {
            "tags": []
          },
          "execution_count": 44
        }
      ]
    },
    {
      "cell_type": "code",
      "metadata": {
        "id": "fS7Tn44kR4SL",
        "outputId": "58a3f27b-4c2a-49d0-8ef5-6947e1ad6bce"
      },
      "source": [
        ""
      ],
      "execution_count": null,
      "outputs": [
        {
          "output_type": "execute_result",
          "data": {
            "text/plain": [
              "25"
            ]
          },
          "metadata": {
            "tags": []
          },
          "execution_count": 54
        }
      ]
    },
    {
      "cell_type": "markdown",
      "metadata": {
        "id": "QLoR2VXwR4SL"
      },
      "source": [
        "# GREAT JOB!"
      ]
    }
  ]
}